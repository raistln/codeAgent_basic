{
 "cells": [
  {
   "cell_type": "code",
   "execution_count": 13,
   "metadata": {},
   "outputs": [],
   "source": [
    "from dotenv import load_dotenv\n",
    "import os\n",
    "from smolagents import tool, CodeAgent, HfApiModel"
   ]
  },
  {
   "cell_type": "code",
   "execution_count": 7,
   "metadata": {},
   "outputs": [
    {
     "data": {
      "text/plain": [
       "True"
      ]
     },
     "execution_count": 7,
     "metadata": {},
     "output_type": "execute_result"
    }
   ],
   "source": [
    "load_dotenv()"
   ]
  },
  {
   "cell_type": "code",
   "execution_count": 8,
   "metadata": {},
   "outputs": [
    {
     "name": "stdout",
     "output_type": "stream",
     "text": [
      "Token cargado correctamente (no se muestra por seguridad)\n"
     ]
    }
   ],
   "source": [
    "HF_TOKEN = os.getenv(\"HF_TOKEN\")\n",
    "\n",
    "if HF_TOKEN is None:\n",
    "    raise ValueError(\"No se encontró el token de Hugging Face en el archivo .env\")\n",
    "\n",
    "print(\"Token cargado correctamente (no se muestra por seguridad)\")"
   ]
  },
  {
   "cell_type": "code",
   "execution_count": 9,
   "metadata": {},
   "outputs": [
    {
     "name": "stdout",
     "output_type": "stream",
     "text": [
      "Conectado como: Raistln\n"
     ]
    }
   ],
   "source": [
    "from huggingface_hub import whoami\n",
    "\n",
    "# Probar conexión\n",
    "try:\n",
    "    user_info = whoami(HF_TOKEN)\n",
    "    print(f\"Conectado como: {user_info['name']}\")\n",
    "except Exception as e:\n",
    "    print(f\"Error al conectar con Hugging Face: {e}\")"
   ]
  },
  {
   "cell_type": "code",
   "execution_count": 11,
   "metadata": {},
   "outputs": [],
   "source": [
    "@tool\n",
    "def generar_texto(prompt: str) -> str:\n",
    "    \"\"\"\n",
    "    Genera texto basado en un prompt usando un modelo de Hugging Face.\n",
    "\n",
    "    Args:\n",
    "        prompt (str): El texto de entrada que se usará como prompt para generar texto.\n",
    "\n",
    "    Returns:\n",
    "        str: El texto generado por el modelo.\n",
    "    \"\"\"\n",
    "    from huggingface_hub import InferenceClient\n",
    "\n",
    "    client = InferenceClient(token=os.getenv(\"HF_TOKEN\"))\n",
    "    respuesta = client.text_generation(prompt=prompt, model=\"bigscience/bloom-560m\", max_new_tokens=100)\n",
    "    return respuesta"
   ]
  },
  {
   "cell_type": "code",
   "execution_count": null,
   "metadata": {},
   "outputs": [],
   "source": [
    "agent = CodeAgent(\n",
    "    tools=[],  # Aquí irán todas tus tools\n",
    "    model=HfApiModel()              # El LLM que usará para decidir qué tool llamar\n",
    ")"
   ]
  }
 ],
 "metadata": {
  "kernelspec": {
   "display_name": "codeagent-basic-CvHKAeqf-py3.13",
   "language": "python",
   "name": "python3"
  },
  "language_info": {
   "codemirror_mode": {
    "name": "ipython",
    "version": 3
   },
   "file_extension": ".py",
   "mimetype": "text/x-python",
   "name": "python",
   "nbconvert_exporter": "python",
   "pygments_lexer": "ipython3",
   "version": "3.13.2"
  }
 },
 "nbformat": 4,
 "nbformat_minor": 2
}
